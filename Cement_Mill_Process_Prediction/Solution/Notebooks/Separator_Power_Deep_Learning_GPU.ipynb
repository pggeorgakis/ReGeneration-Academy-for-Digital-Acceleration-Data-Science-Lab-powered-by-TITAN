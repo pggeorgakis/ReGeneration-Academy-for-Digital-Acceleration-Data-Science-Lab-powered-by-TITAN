{
 "cells": [
  {
   "cell_type": "markdown",
   "metadata": {
    "colab_type": "text",
    "id": "DmaWYeDJKhYZ"
   },
   "source": [
    "## Import the libraries"
   ]
  },
  {
   "cell_type": "code",
   "execution_count": 0,
   "metadata": {
    "colab": {},
    "colab_type": "code",
    "id": "DAm4COXzDG5K"
   },
   "outputs": [],
   "source": [
    "import numpy as np\n",
    "import matplotlib.pyplot as plt\n",
    "import pandas as pd\n",
    "import seaborn as sns\n",
    "from sklearn.preprocessing import StandardScaler\n",
    "from sklearn.model_selection import train_test_split\n",
    "from sklearn.metrics import mean_squared_error\n",
    "from sklearn.preprocessing import MinMaxScaler\n",
    "import tensorflow as tf\n",
    "from tensorflow.keras.models import Sequential, Model\n",
    "from tensorflow.keras.layers import LSTM, Dense, Dropout, Flatten, Input\n",
    "from tensorflow.keras.callbacks import EarlyStopping, ModelCheckpoint, TensorBoard, ReduceLROnPlateau\n",
    "from tensorflow.compat.v1.keras.layers import CuDNNLSTM, CuDNNGRU\n",
    "from sklearn.metrics import mean_absolute_error, mean_squared_error, r2_score"
   ]
  },
  {
   "cell_type": "markdown",
   "metadata": {
    "colab_type": "text",
    "id": "M9N-rvxnI6ih"
   },
   "source": [
    "## Google Drive / Kaggle directory setup"
   ]
  },
  {
   "cell_type": "code",
   "execution_count": 0,
   "metadata": {
    "colab": {},
    "colab_type": "code",
    "id": "vWuytmZmT-2W"
   },
   "outputs": [],
   "source": [
    "from google.colab import drive\n",
    "drive.mount('/content/drive')"
   ]
  },
  {
   "cell_type": "code",
   "execution_count": 0,
   "metadata": {
    "colab": {},
    "colab_type": "code",
    "id": "7w2v00ngUyX_"
   },
   "outputs": [],
   "source": [
    "import os\n",
    "for dirname, _, filenames in os.walk('/kaggle/input'):\n",
    "    for filename in filenames:\n",
    "        print(os.path.join(dirname, filename))"
   ]
  },
  {
   "cell_type": "markdown",
   "metadata": {
    "colab_type": "text",
    "id": "cSe4PTbQI-z3"
   },
   "source": [
    "## Read train and test data"
   ]
  },
  {
   "cell_type": "code",
   "execution_count": 0,
   "metadata": {
    "colab": {},
    "colab_type": "code",
    "id": "z0MdHQxXDRKb"
   },
   "outputs": [],
   "source": [
    "train_data = pd.read_hdf('/content/drive/My Drive/Colab Notebooks/block_1_train_data_final.h5')\n",
    "test_data = pd.read_hdf('/content/drive/My Drive/Colab Notebooks/block_1_test_data_final.h5')"
   ]
  },
  {
   "cell_type": "markdown",
   "metadata": {
    "colab_type": "text",
    "id": "iIe0dJtdJBR3"
   },
   "source": [
    "## Create validation data set"
   ]
  },
  {
   "cell_type": "code",
   "execution_count": 0,
   "metadata": {
    "colab": {},
    "colab_type": "code",
    "id": "yqfIR0hNoeRl"
   },
   "outputs": [],
   "source": [
    "val_split = int(len(train_data) * 0.10)\n",
    "validation_data = train_data[:val_split+1]"
   ]
  },
  {
   "cell_type": "code",
   "execution_count": 0,
   "metadata": {
    "colab": {
     "base_uri": "https://localhost:8080/",
     "height": 36
    },
    "colab_type": "code",
    "executionInfo": {
     "elapsed": 1021,
     "status": "ok",
     "timestamp": 1575280136117,
     "user": {
      "displayName": "Panagiotis Georgakis",
      "photoUrl": "",
      "userId": "02084935956488171273"
     },
     "user_tz": -120
    },
    "id": "Twb6P2r2pHPo",
    "outputId": "24bffcc0-04d0-49bb-f61e-61d846b32ca4"
   },
   "outputs": [
    {
     "data": {
      "text/plain": [
       "((204740, 3), (37905, 3), (20475, 3))"
      ]
     },
     "execution_count": 5,
     "metadata": {
      "tags": []
     },
     "output_type": "execute_result"
    }
   ],
   "source": [
    "train_data.shape, test_data.shape, validation_data.shape"
   ]
  },
  {
   "cell_type": "markdown",
   "metadata": {
    "colab_type": "text",
    "id": "YySh1eLSJQdy"
   },
   "source": [
    "## Create the LSTM model function"
   ]
  },
  {
   "cell_type": "code",
   "execution_count": 0,
   "metadata": {
    "colab": {},
    "colab_type": "code",
    "id": "dOq8zdDqDZS-"
   },
   "outputs": [],
   "source": [
    "def LSTM_model(train_data=train_data, \n",
    "              test_data=test_data, \n",
    "              validation_data=validation_data, \n",
    "              look_back=30, \n",
    "              y_target_col=2, \n",
    "              epochs=10, \n",
    "              batch_size=64):\n",
    " \n",
    "  # scale data\n",
    "  scaler = MinMaxScaler()\n",
    "  train_data = scaler.fit_transform(train_data)\n",
    "  validation_data = scaler.fit_transform(validation_data)\n",
    "  \n",
    "  # get input arrays\n",
    "  \n",
    "  X_train = []\n",
    "  y_train = []\n",
    "\n",
    "  for i in range(look_back, train_data.shape[0]):\n",
    "      X_train.append(train_data[i-look_back:i])\n",
    "      y_train.append(train_data[i, y_target_col])\n",
    "    \n",
    "  X_train, y_train = np.array(X_train), np.array(y_train)\n",
    "\n",
    "  X_val = []\n",
    "  y_val = []\n",
    "\n",
    "  for i in range(look_back, validation_data.shape[0]):\n",
    "    X_val.append(validation_data[i-look_back:i])\n",
    "    y_val.append(validation_data[i, y_target_col])\n",
    "\n",
    "  X_val, y_val = np.array(X_val), np.array(y_val)\n",
    "\n",
    "  # build the model\n",
    "  model = Sequential()\n",
    "\n",
    "  model.add(CuDNNLSTM(units=128, \n",
    "                      return_sequences=True, \n",
    "                      input_shape=(X_train.shape[1], 3)))\n",
    "  # model.add(Dropout(0.2)) # model has better results w/o Dropout\n",
    "  model.add(CuDNNLSTM(units=32, return_sequences=True))\n",
    "  model.add(Flatten())\n",
    "  model.add(Dense(units=1))\n",
    "\n",
    "  model.compile(optimizer='adam', loss = 'mean_squared_error')\n",
    "\n",
    "  # callbacks  \n",
    "  callback_early_stopping = EarlyStopping(monitor='val_loss',\n",
    "                                        patience=5, verbose=1)\n",
    "  \n",
    "  callback_reduce_lr = ReduceLROnPlateau(monitor='val_loss',\n",
    "                                       factor=0.1,\n",
    "                                       min_lr=1e-4,\n",
    "                                       patience=0,\n",
    "                                       verbose=1)\n",
    "  \n",
    "  callback_tensorboard = TensorBoard(log_dir='C:\\\\Users\\\\Laptop\\\\Desktop\\\\tensor')\n",
    "\n",
    "  callbacks = [callback_early_stopping,\n",
    "             callback_reduce_lr,\n",
    "             callback_tensorboard]\n",
    "  \n",
    "  # train   \n",
    "  history = model.fit(X_train, \n",
    "                      y_train, \n",
    "                      epochs=epochs, \n",
    "                      batch_size=batch_size, \n",
    "                      validation_data=(X_val, y_val), \n",
    "                      callbacks=callbacks)\n",
    "\n",
    "  # predict\n",
    "  past_60_min = test_data.tail(60)\n",
    "  df = past_60_min.append(test_data, ignore_index = True)\n",
    "  inputs = scaler.transform(df)\n",
    "\n",
    "  X_test = []\n",
    "  y_test = []\n",
    "\n",
    "  for i in range(look_back, inputs.shape[0]):\n",
    "    X_test.append(inputs[i-look_back:i])\n",
    "    y_test.append(inputs[i, y_target_col])\n",
    "\n",
    "  X_test, y_test = np.array(X_test), np.array(y_test) \n",
    "\n",
    "  y_pred = model.predict(X_test)\n",
    "  scale = 1/scaler.scale_[y_target_col]\n",
    "  y_pred = y_pred*scale\n",
    "  y_test = y_test*scale\n",
    "\n",
    "  mae = mean_absolute_error(y_test, y_pred)\n",
    "  mse = np.sqrt(mean_squared_error(y_test, y_pred))\n",
    "  r2 = r2_score(y_test, y_pred, multioutput='variance_weighted')\n",
    "\n",
    "  # plot\n",
    "  plt.figure(figsize=(14,5))\n",
    "  plt.plot(y_test, color = 'red', label = 'Real')\n",
    "  plt.plot(y_pred, color = 'blue', label = 'Predicted')\n",
    "  plt.title('Mill Separator Power')\n",
    "  plt.xlabel('Minutes')\n",
    "  plt.ylabel('Separator Power kw')\n",
    "  plt.legend()\n",
    "  plt.show()\n",
    "    \n",
    "  result = model.evaluate(x=X_test, y=y_test)\n",
    "  print(\"loss (test-set):\", result)\n",
    "  print('LSTM: ', mae, mse, r2)\n",
    "  return y_test, y_pred, history"
   ]
  },
  {
   "cell_type": "markdown",
   "metadata": {
    "colab_type": "text",
    "id": "1nWqEa2yLHef"
   },
   "source": [
    "## Train the LSTM model"
   ]
  },
  {
   "cell_type": "code",
   "execution_count": 0,
   "metadata": {
    "colab": {
     "base_uri": "https://localhost:8080/",
     "height": 895
    },
    "colab_type": "code",
    "executionInfo": {
     "elapsed": 541663,
     "status": "ok",
     "timestamp": 1575288990034,
     "user": {
      "displayName": "Panagiotis Georgakis",
      "photoUrl": "",
      "userId": "02084935956488171273"
     },
     "user_tz": -120
    },
    "id": "PaVWEIaqHDNm",
    "outputId": "07331a66-a527-45e3-9676-3faa31d4b7f9"
   },
   "outputs": [
    {
     "name": "stdout",
     "output_type": "stream",
     "text": [
      "Train on 204680 samples, validate on 20415 samples\n",
      "Epoch 1/10\n",
      "204680/204680 [==============================] - 52s 255us/sample - loss: 0.0023 - mean_squared_error: 0.0023 - mean_absolute_error: 0.0266 - val_loss: 0.0012 - val_mean_squared_error: 0.0012 - val_mean_absolute_error: 0.0169\n",
      "Epoch 2/10\n",
      "204672/204680 [============================>.] - ETA: 0s - loss: 0.0011 - mean_squared_error: 0.0011 - mean_absolute_error: 0.0185\n",
      "Epoch 00002: ReduceLROnPlateau reducing learning rate to 0.00010000000474974513.\n",
      "204680/204680 [==============================] - 52s 253us/sample - loss: 0.0011 - mean_squared_error: 0.0011 - mean_absolute_error: 0.0185 - val_loss: 0.0012 - val_mean_squared_error: 0.0012 - val_mean_absolute_error: 0.0210\n",
      "Epoch 3/10\n",
      "204672/204680 [============================>.] - ETA: 0s - loss: 9.4767e-04 - mean_squared_error: 9.4767e-04 - mean_absolute_error: 0.0154\n",
      "Epoch 00003: ReduceLROnPlateau reducing learning rate to 0.0001.\n",
      "204680/204680 [==============================] - 51s 251us/sample - loss: 9.4765e-04 - mean_squared_error: 9.4765e-04 - mean_absolute_error: 0.0154 - val_loss: 0.0011 - val_mean_squared_error: 0.0011 - val_mean_absolute_error: 0.0159\n",
      "Epoch 4/10\n",
      "204680/204680 [==============================] - 52s 252us/sample - loss: 9.4959e-04 - mean_squared_error: 9.4959e-04 - mean_absolute_error: 0.0157 - val_loss: 0.0011 - val_mean_squared_error: 0.0011 - val_mean_absolute_error: 0.0153\n",
      "Epoch 5/10\n",
      "204680/204680 [==============================] - 52s 252us/sample - loss: 9.5051e-04 - mean_squared_error: 9.5051e-04 - mean_absolute_error: 0.0157 - val_loss: 0.0011 - val_mean_squared_error: 0.0011 - val_mean_absolute_error: 0.0153\n",
      "Epoch 6/10\n",
      "204680/204680 [==============================] - 51s 251us/sample - loss: 9.4762e-04 - mean_squared_error: 9.4762e-04 - mean_absolute_error: 0.0157 - val_loss: 0.0012 - val_mean_squared_error: 0.0012 - val_mean_absolute_error: 0.0192\n",
      "Epoch 7/10\n",
      "204680/204680 [==============================] - 52s 252us/sample - loss: 9.4673e-04 - mean_squared_error: 9.4673e-04 - mean_absolute_error: 0.0157 - val_loss: 0.0011 - val_mean_squared_error: 0.0011 - val_mean_absolute_error: 0.0155\n",
      "Epoch 8/10\n",
      "204680/204680 [==============================] - 52s 253us/sample - loss: 9.4324e-04 - mean_squared_error: 9.4324e-04 - mean_absolute_error: 0.0156 - val_loss: 0.0011 - val_mean_squared_error: 0.0011 - val_mean_absolute_error: 0.0148\n",
      "Epoch 9/10\n",
      "204680/204680 [==============================] - 52s 252us/sample - loss: 9.4459e-04 - mean_squared_error: 9.4459e-04 - mean_absolute_error: 0.0157 - val_loss: 0.0011 - val_mean_squared_error: 0.0011 - val_mean_absolute_error: 0.0170\n",
      "Epoch 10/10\n",
      "204680/204680 [==============================] - 52s 252us/sample - loss: 9.4200e-04 - mean_squared_error: 9.4200e-04 - mean_absolute_error: 0.0156 - val_loss: 0.0011 - val_mean_squared_error: 0.0011 - val_mean_absolute_error: 0.0156\n"
     ]
    },
    {
     "data": {
      "image/png": "[encoded data removed]",
      "text/plain": [
       "<Figure size 1008x360 with 1 Axes>"
      ]
     },
     "metadata": {
      "tags": []
     },
     "output_type": "display_data"
    },
    {
     "name": "stdout",
     "output_type": "stream",
     "text": [
      "37905/37905 [==============================] - 12s 321us/sample - loss: 14.1360 - mean_squared_error: 14.1360 - mean_absolute_error: 3.2121\n",
      "loss (test-set): [14.136019452186487, 14.136016, 3.2121434]\n",
      "LSTM:  0.4800873564596995 1.6240101105575802 0.3913597971365439\n"
     ]
    }
   ],
   "source": [
    "y_test, y_pred_lstm, history_lstm = LSTM_model(train_data=train_data, \n",
    "              test_data=test_data, \n",
    "              validation_data=validation_data, \n",
    "              look_back=60, \n",
    "              y_target_col=2,\n",
    "              epochs=10, \n",
    "              batch_size=128)"
   ]
  },
  {
   "cell_type": "markdown",
   "metadata": {
    "colab_type": "text",
    "id": "AKbWtoY0Ji8s"
   },
   "source": [
    "## Code to lunch Tensorboard"
   ]
  },
  {
   "cell_type": "code",
   "execution_count": 0,
   "metadata": {
    "colab": {},
    "colab_type": "code",
    "id": "uWn62mYdRICg"
   },
   "outputs": [],
   "source": [
    "tensorboard --logdir C:\\Users\\Laptop\\Desktop\\tensor"
   ]
  },
  {
   "cell_type": "markdown",
   "metadata": {
    "colab_type": "text",
    "id": "4fHf96l3Jt0H"
   },
   "source": [
    "## Create the GRU model function"
   ]
  },
  {
   "cell_type": "code",
   "execution_count": 0,
   "metadata": {
    "colab": {},
    "colab_type": "code",
    "id": "Qio6qMamLh0V"
   },
   "outputs": [],
   "source": [
    "def GRU_model(train_data=train_data, \n",
    "              test_data=test_data, \n",
    "              validation_data=validation_data, \n",
    "              look_back=30, \n",
    "              y_target_col=2, \n",
    "              epochs=10, \n",
    "              batch_size=64):\n",
    " \n",
    "  # scale data\n",
    "  scaler = MinMaxScaler()\n",
    "  train_data = scaler.fit_transform(train_data)\n",
    "  validation_data = scaler.fit_transform(validation_data)\n",
    "  \n",
    "  # get input arrays\n",
    "  \n",
    "  X_train = []\n",
    "  y_train = []\n",
    "\n",
    "  for i in range(look_back, train_data.shape[0]):\n",
    "      X_train.append(train_data[i-look_back:i])\n",
    "      y_train.append(train_data[i, y_target_col])\n",
    "    \n",
    "  X_train, y_train = np.array(X_train), np.array(y_train)\n",
    "\n",
    "  X_val = []\n",
    "  y_val = []\n",
    "\n",
    "  for i in range(look_back, validation_data.shape[0]):\n",
    "    X_val.append(validation_data[i-look_back:i])\n",
    "    y_val.append(validation_data[i, y_target_col])\n",
    "\n",
    "  X_val, y_val = np.array(X_val), np.array(y_val)\n",
    "\n",
    "  # build the model\n",
    "  model = Sequential()\n",
    "\n",
    "  model.add(CuDNNGRU(units=128, \n",
    "                     return_sequences=True, \n",
    "                     input_shape=(X_train.shape[1], 3)))\n",
    "  #model.add(Dropout(0.5))\n",
    "  model.add(CuDNNGRU(units=32, return_sequences=True))\n",
    "  model.add(Flatten())\n",
    "  model.add(Dense(units=1))\n",
    "\n",
    "  model.compile(optimizer='adam', \n",
    "                loss = 'mean_squared_error',  \n",
    "                metrics=['mse', 'mae'])\n",
    "\n",
    "  # callbacks  \n",
    "  callback_early_stopping = EarlyStopping(monitor='val_loss',\n",
    "                                        patience=5, \n",
    "                                        verbose=1)\n",
    "  \n",
    "  callback_reduce_lr = ReduceLROnPlateau(monitor='val_loss',\n",
    "                                       factor=0.1,\n",
    "                                       min_lr=1e-4,\n",
    "                                       patience=0,\n",
    "                                       verbose=1)\n",
    "  \n",
    "  callback_tensorboard = TensorBoard(log_dir='C:\\\\Users\\\\Laptop\\\\Desktop\\\\tensor')\n",
    "\n",
    "  callbacks = [callback_early_stopping,\n",
    "             callback_reduce_lr,\n",
    "             callback_tensorboard]\n",
    "  \n",
    "  # train   \n",
    "  history = model.fit(X_train, \n",
    "                      y_train, \n",
    "                      epochs=epochs, \n",
    "                      batch_size=batch_size, \n",
    "                      validation_data=(X_val, y_val), \n",
    "                      callbacks=callbacks)\n",
    "\n",
    "  # predict\n",
    "  past_60_min = test_data.tail(60)\n",
    "  df = past_60_min.append(test_data, ignore_index = True)\n",
    "  inputs = scaler.transform(df)\n",
    "\n",
    "  X_test = []\n",
    "  y_test = []\n",
    "\n",
    "  for i in range(look_back, inputs.shape[0]):\n",
    "    X_test.append(inputs[i-look_back:i])\n",
    "    y_test.append(inputs[i, y_target_col])\n",
    "\n",
    "  X_test, y_test = np.array(X_test), np.array(y_test) \n",
    "\n",
    "  y_pred = model.predict(X_test)\n",
    "  scale = 1/scaler.scale_[y_target_col]\n",
    "  y_pred = y_pred*scale\n",
    "  y_test = y_test*scale\n",
    "\n",
    "  mae = mean_absolute_error(y_test, y_pred)\n",
    "  mse = np.sqrt(mean_squared_error(y_test, y_pred))\n",
    "  r2 = r2_score(y_test, y_pred, multioutput='variance_weighted')\n",
    "\n",
    "  # plot\n",
    "  plt.figure(figsize=(15,5))\n",
    "  plt.plot(y_test, color = 'red', label = 'Real')\n",
    "  plt.plot(y_pred, color = 'blue', label = 'Predicted')\n",
    "  plt.title('Mill Separator Power')\n",
    "  plt.xlabel('Minutes')\n",
    "  plt.ylabel('Separator Power kw')\n",
    "  plt.legend()\n",
    "  plt.show()\n",
    "    \n",
    "  result = model.evaluate(x=X_test, y=y_test)\n",
    "  print(\"loss (test-set):\", result)\n",
    "  print('GRU: ', mae, mse, r2)\n",
    "  return y_test, y_pred, history"
   ]
  },
  {
   "cell_type": "markdown",
   "metadata": {
    "colab_type": "text",
    "id": "ZNzO90iLMEeT"
   },
   "source": [
    "## Train the GRU model"
   ]
  },
  {
   "cell_type": "code",
   "execution_count": 0,
   "metadata": {
    "colab": {},
    "colab_type": "code",
    "id": "_8Vn4dlMDLhu"
   },
   "outputs": [],
   "source": [
    "y_test, y_pred_gru, history_gru = GRU_model(train_data=train_data, \n",
    "              test_data=test_data, \n",
    "              validation_data=validation_data, \n",
    "              look_back=60, \n",
    "              y_target_col=2,\n",
    "              epochs=10, \n",
    "              batch_size=128)"
   ]
  },
  {
   "cell_type": "markdown",
   "metadata": {
    "colab_type": "text",
    "id": "vKZmmyrEJyjR"
   },
   "source": [
    "## Plot the results"
   ]
  },
  {
   "cell_type": "code",
   "execution_count": 0,
   "metadata": {
    "colab": {
     "base_uri": "https://localhost:8080/",
     "height": 350
    },
    "colab_type": "code",
    "executionInfo": {
     "elapsed": 1272,
     "status": "ok",
     "timestamp": 1575285338505,
     "user": {
      "displayName": "Panagiotis Georgakis",
      "photoUrl": "",
      "userId": "02084935956488171273"
     },
     "user_tz": -120
    },
    "id": "FhwxCjquDzOg",
    "outputId": "126c95f0-99e1-463f-8b35-7f72263978c5"
   },
   "outputs": [
    {
     "data": {
      "image/png": "[encoded data removed]",
      "text/plain": [
       "<Figure size 1440x360 with 1 Axes>"
      ]
     },
     "metadata": {
      "tags": []
     },
     "output_type": "display_data"
    }
   ],
   "source": [
    "# plot\n",
    "a = 28000\n",
    "b = a+100\n",
    "plt.figure(figsize=(20,5))\n",
    "plt.plot(y_test[a:b], color = 'red', label = 'Real')\n",
    "plt.plot(y_pred_lstm[a:b], color = 'blue', label = 'LSTM')\n",
    "plt.plot(y_pred_gru[a:b], color = 'green', label = 'GRU')\n",
    "plt.title('Mill Separator Power')\n",
    "plt.xlabel('Minutes')\n",
    "plt.ylabel('Separator Power (kw)')\n",
    "plt.legend()\n",
    "plt.show()"
   ]
  },
  {
   "cell_type": "markdown",
   "metadata": {
    "colab_type": "text",
    "id": "llcsos37LXn3"
   },
   "source": [
    "## Model metrics"
   ]
  },
  {
   "cell_type": "code",
   "execution_count": 0,
   "metadata": {
    "colab": {},
    "colab_type": "code",
    "id": "QE1bU2fcLWrX"
   },
   "outputs": [],
   "source": [
    "mae_lstm = mean_absolute_error(y_test, y_pred_lstm)\n",
    "mse_lstm = np.sqrt(mean_squared_error(y_test, y_pred_lstm))\n",
    "r2_lstm = r2_score(y_test, y_pred_lstm, multioutput='variance_weighted')\n",
    "\n",
    "mae_gru = mean_absolute_error(y_test, y_pred_gru)\n",
    "mse_gru = np.sqrt(mean_squared_error(y_test, y_pred_gru))\n",
    "r2_gru = r2_score(y_test, y_pred_gru, multioutput='variance_weighted')\n",
    "\n",
    "print('Block 1 Metrics')\n",
    "print('LSTM: ', mae_lstm, mse_lstm, r2_lstm)\n",
    "print('GRU: ', mae_gru, mse_gru, r2_gru)"
   ]
  },
  {
   "cell_type": "markdown",
   "metadata": {
    "colab_type": "text",
    "id": "rLBWDOKQKI-y"
   },
   "source": [
    "## Save the results"
   ]
  },
  {
   "cell_type": "code",
   "execution_count": 0,
   "metadata": {
    "colab": {},
    "colab_type": "code",
    "id": "rTCwkTVtMOpU"
   },
   "outputs": [],
   "source": [
    "y_test1 = y_test.flatten()\n",
    "y_pred_lstm1 = y_pred_lstm.flatten()\n",
    "y_pred_gru1 = y_pred_gru.flatten()"
   ]
  },
  {
   "cell_type": "code",
   "execution_count": 0,
   "metadata": {
    "colab": {},
    "colab_type": "code",
    "id": "OPiSeRM6GEq0"
   },
   "outputs": [],
   "source": [
    "block_1_results = pd.DataFrame({'y_test': y_test1, 'y_pred_lstm': y_pred_lstm1, 'y_pred_gru': y_pred_gru1})"
   ]
  },
  {
   "cell_type": "code",
   "execution_count": 0,
   "metadata": {
    "colab": {},
    "colab_type": "code",
    "id": "tPI2foFJNJKM"
   },
   "outputs": [],
   "source": [
    "block_1_results"
   ]
  },
  {
   "cell_type": "code",
   "execution_count": 0,
   "metadata": {
    "colab": {},
    "colab_type": "code",
    "id": "nGDqcvPPPh_1"
   },
   "outputs": [],
   "source": [
    "block_1_results.to_hdf('block_1_results.h5', key='df')"
   ]
  }
 ],
 "metadata": {
  "accelerator": "GPU",
  "colab": {
   "collapsed_sections": [],
   "name": "Block_1_Deep_Learning_GPU.ipynb",
   "provenance": [
    {
     "file_id": "1T1GmYYaISw0UiTOJoKsL3oSkXVDcHlV8",
     "timestamp": 1575286562000
    }
   ]
  },
  "kernelspec": {
   "display_name": "Python 3",
   "language": "python",
   "name": "python3"
  },
  "language_info": {
   "codemirror_mode": {
    "name": "ipython",
    "version": 3
   },
   "file_extension": ".py",
   "mimetype": "text/x-python",
   "name": "python",
   "nbconvert_exporter": "python",
   "pygments_lexer": "ipython3",
   "version": "3.7.4"
  },
  "varInspector": {
   "cols": {
    "lenName": 16,
    "lenType": 16,
    "lenVar": 40
   },
   "kernels_config": {
    "python": {
     "delete_cmd_postfix": "",
     "delete_cmd_prefix": "del ",
     "library": "var_list.py",
     "varRefreshCmd": "print(var_dic_list())"
    },
    "r": {
     "delete_cmd_postfix": ") ",
     "delete_cmd_prefix": "rm(",
     "library": "var_list.r",
     "varRefreshCmd": "cat(var_dic_list()) "
    }
   },
   "types_to_exclude": [
    "module",
    "function",
    "builtin_function_or_method",
    "instance",
    "_Feature"
   ],
   "window_display": false
  }
 },
 "nbformat": 4,
 "nbformat_minor": 1
}
