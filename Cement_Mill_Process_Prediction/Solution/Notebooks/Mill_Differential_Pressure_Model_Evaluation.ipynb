{
 "cells": [
  {
   "cell_type": "code",
   "execution_count": 1,
   "metadata": {},
   "outputs": [],
   "source": [
    "import pandas as pd\n",
    "import numpy as np\n",
    "import seaborn as sns\n",
    "import matplotlib\n",
    "import matplotlib.pyplot as plt\n",
    "import datetime\n",
    "import warnings\n",
    "import matplotlib.dates as mdates\n",
    "\n",
    "%matplotlib inline\n",
    "warnings.filterwarnings(\"ignore\")"
   ]
  },
  {
   "cell_type": "code",
   "execution_count": 2,
   "metadata": {},
   "outputs": [],
   "source": [
    "data = pd.read_hdf('model2.h5')"
   ]
  },
  {
   "cell_type": "code",
   "execution_count": 48,
   "metadata": {},
   "outputs": [
    {
     "data": {
      "text/html": [
       "<div>\n",
       "<style scoped>\n",
       "    .dataframe tbody tr th:only-of-type {\n",
       "        vertical-align: middle;\n",
       "    }\n",
       "\n",
       "    .dataframe tbody tr th {\n",
       "        vertical-align: top;\n",
       "    }\n",
       "\n",
       "    .dataframe thead th {\n",
       "        text-align: right;\n",
       "    }\n",
       "</style>\n",
       "<table border=\"1\" class=\"dataframe\">\n",
       "  <thead>\n",
       "    <tr style=\"text-align: right;\">\n",
       "      <th></th>\n",
       "      <th>date</th>\n",
       "      <th>total_feed_ton_h_pv</th>\n",
       "      <th>fly_ash_1_ton_h_pv</th>\n",
       "      <th>fly_ash_2_ton_h_pv</th>\n",
       "      <th>main_fan_speed_rpm_pv</th>\n",
       "      <th>separator_speed_rpm_pv</th>\n",
       "      <th>grinding_pressure_bar_pv</th>\n",
       "      <th>mill_injection_water_m3_h_pv</th>\n",
       "      <th>bucket_elv_mtr_pwr_kw_pv</th>\n",
       "      <th>mill_motor_pwr_kw_pv</th>\n",
       "      <th>mill_operation</th>\n",
       "      <th>mill_dp_mbar_pv</th>\n",
       "    </tr>\n",
       "  </thead>\n",
       "  <tbody>\n",
       "    <tr>\n",
       "      <th>0</th>\n",
       "      <td>2019-05-10 11:24:00.000</td>\n",
       "      <td>57.92</td>\n",
       "      <td>0.01</td>\n",
       "      <td>0.10</td>\n",
       "      <td>928.20</td>\n",
       "      <td>717.51</td>\n",
       "      <td>123.0</td>\n",
       "      <td>2.45</td>\n",
       "      <td>4.82</td>\n",
       "      <td>1046.61</td>\n",
       "      <td>1.0</td>\n",
       "      <td>29.79</td>\n",
       "    </tr>\n",
       "    <tr>\n",
       "      <th>1</th>\n",
       "      <td>2019-05-10 11:24:30.000</td>\n",
       "      <td>57.72</td>\n",
       "      <td>0.00</td>\n",
       "      <td>0.04</td>\n",
       "      <td>928.20</td>\n",
       "      <td>735.89</td>\n",
       "      <td>120.0</td>\n",
       "      <td>2.46</td>\n",
       "      <td>4.85</td>\n",
       "      <td>1023.69</td>\n",
       "      <td>1.0</td>\n",
       "      <td>30.51</td>\n",
       "    </tr>\n",
       "    <tr>\n",
       "      <th>2</th>\n",
       "      <td>2019-05-10 11:25:00.000</td>\n",
       "      <td>58.01</td>\n",
       "      <td>0.01</td>\n",
       "      <td>0.07</td>\n",
       "      <td>928.20</td>\n",
       "      <td>736.68</td>\n",
       "      <td>118.0</td>\n",
       "      <td>2.46</td>\n",
       "      <td>4.88</td>\n",
       "      <td>1024.23</td>\n",
       "      <td>1.0</td>\n",
       "      <td>31.61</td>\n",
       "    </tr>\n",
       "    <tr>\n",
       "      <th>3</th>\n",
       "      <td>2019-05-10 11:25:30.000</td>\n",
       "      <td>57.87</td>\n",
       "      <td>0.01</td>\n",
       "      <td>0.09</td>\n",
       "      <td>928.20</td>\n",
       "      <td>747.61</td>\n",
       "      <td>117.0</td>\n",
       "      <td>2.46</td>\n",
       "      <td>4.82</td>\n",
       "      <td>1022.25</td>\n",
       "      <td>1.0</td>\n",
       "      <td>33.71</td>\n",
       "    </tr>\n",
       "    <tr>\n",
       "      <th>4</th>\n",
       "      <td>2019-05-10 11:26:00.000</td>\n",
       "      <td>57.80</td>\n",
       "      <td>0.00</td>\n",
       "      <td>0.06</td>\n",
       "      <td>928.20</td>\n",
       "      <td>747.61</td>\n",
       "      <td>119.0</td>\n",
       "      <td>2.46</td>\n",
       "      <td>4.79</td>\n",
       "      <td>1029.91</td>\n",
       "      <td>1.0</td>\n",
       "      <td>34.68</td>\n",
       "    </tr>\n",
       "    <tr>\n",
       "      <th>...</th>\n",
       "      <td>...</td>\n",
       "      <td>...</td>\n",
       "      <td>...</td>\n",
       "      <td>...</td>\n",
       "      <td>...</td>\n",
       "      <td>...</td>\n",
       "      <td>...</td>\n",
       "      <td>...</td>\n",
       "      <td>...</td>\n",
       "      <td>...</td>\n",
       "      <td>...</td>\n",
       "      <td>...</td>\n",
       "    </tr>\n",
       "    <tr>\n",
       "      <th>188802</th>\n",
       "      <td>31/10/2019 23:52</td>\n",
       "      <td>76.11</td>\n",
       "      <td>0.01</td>\n",
       "      <td>0.07</td>\n",
       "      <td>736.69</td>\n",
       "      <td>795.67</td>\n",
       "      <td>112.0</td>\n",
       "      <td>1.88</td>\n",
       "      <td>5.02</td>\n",
       "      <td>1089.06</td>\n",
       "      <td>1.0</td>\n",
       "      <td>36.52</td>\n",
       "    </tr>\n",
       "    <tr>\n",
       "      <th>188803</th>\n",
       "      <td>31/10/2019 23:57</td>\n",
       "      <td>66.85</td>\n",
       "      <td>0.01</td>\n",
       "      <td>0.07</td>\n",
       "      <td>838.13</td>\n",
       "      <td>529.60</td>\n",
       "      <td>70.0</td>\n",
       "      <td>0.00</td>\n",
       "      <td>5.04</td>\n",
       "      <td>560.00</td>\n",
       "      <td>1.0</td>\n",
       "      <td>34.87</td>\n",
       "    </tr>\n",
       "    <tr>\n",
       "      <th>188804</th>\n",
       "      <td>31/10/2019 23:58</td>\n",
       "      <td>70.21</td>\n",
       "      <td>0.01</td>\n",
       "      <td>0.11</td>\n",
       "      <td>852.98</td>\n",
       "      <td>529.87</td>\n",
       "      <td>91.0</td>\n",
       "      <td>0.06</td>\n",
       "      <td>5.70</td>\n",
       "      <td>860.31</td>\n",
       "      <td>1.0</td>\n",
       "      <td>36.59</td>\n",
       "    </tr>\n",
       "    <tr>\n",
       "      <th>188805</th>\n",
       "      <td>31/10/2019 23:58</td>\n",
       "      <td>70.95</td>\n",
       "      <td>0.02</td>\n",
       "      <td>0.11</td>\n",
       "      <td>855.70</td>\n",
       "      <td>530.13</td>\n",
       "      <td>107.0</td>\n",
       "      <td>0.64</td>\n",
       "      <td>5.13</td>\n",
       "      <td>559.73</td>\n",
       "      <td>1.0</td>\n",
       "      <td>35.19</td>\n",
       "    </tr>\n",
       "    <tr>\n",
       "      <th>188806</th>\n",
       "      <td>31/10/2019 23:59</td>\n",
       "      <td>71.31</td>\n",
       "      <td>0.00</td>\n",
       "      <td>0.06</td>\n",
       "      <td>871.09</td>\n",
       "      <td>529.55</td>\n",
       "      <td>116.0</td>\n",
       "      <td>0.00</td>\n",
       "      <td>5.32</td>\n",
       "      <td>968.72</td>\n",
       "      <td>1.0</td>\n",
       "      <td>35.90</td>\n",
       "    </tr>\n",
       "  </tbody>\n",
       "</table>\n",
       "<p>188807 rows × 12 columns</p>\n",
       "</div>"
      ],
      "text/plain": [
       "                           date  total_feed_ton_h_pv  fly_ash_1_ton_h_pv  \\\n",
       "0       2019-05-10 11:24:00.000                57.92                0.01   \n",
       "1       2019-05-10 11:24:30.000                57.72                0.00   \n",
       "2       2019-05-10 11:25:00.000                58.01                0.01   \n",
       "3       2019-05-10 11:25:30.000                57.87                0.01   \n",
       "4       2019-05-10 11:26:00.000                57.80                0.00   \n",
       "...                         ...                  ...                 ...   \n",
       "188802         31/10/2019 23:52                76.11                0.01   \n",
       "188803         31/10/2019 23:57                66.85                0.01   \n",
       "188804         31/10/2019 23:58                70.21                0.01   \n",
       "188805         31/10/2019 23:58                70.95                0.02   \n",
       "188806         31/10/2019 23:59                71.31                0.00   \n",
       "\n",
       "        fly_ash_2_ton_h_pv  main_fan_speed_rpm_pv  separator_speed_rpm_pv  \\\n",
       "0                     0.10                 928.20                  717.51   \n",
       "1                     0.04                 928.20                  735.89   \n",
       "2                     0.07                 928.20                  736.68   \n",
       "3                     0.09                 928.20                  747.61   \n",
       "4                     0.06                 928.20                  747.61   \n",
       "...                    ...                    ...                     ...   \n",
       "188802                0.07                 736.69                  795.67   \n",
       "188803                0.07                 838.13                  529.60   \n",
       "188804                0.11                 852.98                  529.87   \n",
       "188805                0.11                 855.70                  530.13   \n",
       "188806                0.06                 871.09                  529.55   \n",
       "\n",
       "        grinding_pressure_bar_pv  mill_injection_water_m3_h_pv  \\\n",
       "0                          123.0                          2.45   \n",
       "1                          120.0                          2.46   \n",
       "2                          118.0                          2.46   \n",
       "3                          117.0                          2.46   \n",
       "4                          119.0                          2.46   \n",
       "...                          ...                           ...   \n",
       "188802                     112.0                          1.88   \n",
       "188803                      70.0                          0.00   \n",
       "188804                      91.0                          0.06   \n",
       "188805                     107.0                          0.64   \n",
       "188806                     116.0                          0.00   \n",
       "\n",
       "        bucket_elv_mtr_pwr_kw_pv  mill_motor_pwr_kw_pv  mill_operation  \\\n",
       "0                           4.82               1046.61             1.0   \n",
       "1                           4.85               1023.69             1.0   \n",
       "2                           4.88               1024.23             1.0   \n",
       "3                           4.82               1022.25             1.0   \n",
       "4                           4.79               1029.91             1.0   \n",
       "...                          ...                   ...             ...   \n",
       "188802                      5.02               1089.06             1.0   \n",
       "188803                      5.04                560.00             1.0   \n",
       "188804                      5.70                860.31             1.0   \n",
       "188805                      5.13                559.73             1.0   \n",
       "188806                      5.32                968.72             1.0   \n",
       "\n",
       "        mill_dp_mbar_pv  \n",
       "0                 29.79  \n",
       "1                 30.51  \n",
       "2                 31.61  \n",
       "3                 33.71  \n",
       "4                 34.68  \n",
       "...                 ...  \n",
       "188802            36.52  \n",
       "188803            34.87  \n",
       "188804            36.59  \n",
       "188805            35.19  \n",
       "188806            35.90  \n",
       "\n",
       "[188807 rows x 12 columns]"
      ]
     },
     "execution_count": 48,
     "metadata": {},
     "output_type": "execute_result"
    }
   ],
   "source": [
    "data"
   ]
  },
  {
   "cell_type": "markdown",
   "metadata": {},
   "source": [
    "### Splitting the data set in train and test sets"
   ]
  },
  {
   "cell_type": "code",
   "execution_count": 50,
   "metadata": {},
   "outputs": [],
   "source": [
    "train_perc = 0.8\n",
    "test_perc = 0.2"
   ]
  },
  {
   "cell_type": "code",
   "execution_count": 51,
   "metadata": {},
   "outputs": [
    {
     "data": {
      "text/plain": [
       "'\\nval_split = int(len(data) * val_perc)\\nvalidation_data = data[train_split+test_split:(train_split+test_split+val_split)]\\n'"
      ]
     },
     "execution_count": 51,
     "metadata": {},
     "output_type": "execute_result"
    }
   ],
   "source": [
    "train_split = int(len(data) * train_perc)\n",
    "train_data = data[:train_split]\n",
    "\n",
    "test_split = int(len(data) * test_perc)\n",
    "test_data = data[train_split:(train_split+test_split+1)]"
   ]
  },
  {
   "cell_type": "markdown",
   "metadata": {},
   "source": [
    "### Filtering so as to get rid of the outlier values"
   ]
  },
  {
   "cell_type": "code",
   "execution_count": 52,
   "metadata": {},
   "outputs": [],
   "source": [
    "mask2 = (train_data['main_fan_speed_rpm_pv']>550) & (train_data['main_fan_speed_rpm_pv']<1100) & (train_data['separator_speed_rpm_pv']>650) & (train_data['separator_speed_rpm_pv']<850) & (train_data['grinding_pressure_bar_pv']>110) & (train_data['grinding_pressure_bar_pv']<123) & (train_data['bucket_elv_mtr_pwr_kw_pv']>4.5) & (train_data['bucket_elv_mtr_pwr_kw_pv']<5.25) & (train_data['mill_dp_mbar_pv']>25) & (train_data['mill_dp_mbar_pv']<45)\n",
    "train_data = train_data[mask2].reset_index(drop=True)"
   ]
  },
  {
   "cell_type": "markdown",
   "metadata": {},
   "source": [
    "### Turning the date variable into datetime type, turning it to index for the train set grouping by minute.\n",
    "### Also, we drop it from the test set cause is unneeded"
   ]
  },
  {
   "cell_type": "code",
   "execution_count": 53,
   "metadata": {},
   "outputs": [],
   "source": [
    "train_data['date'] = pd.to_datetime(train_data['date'], dayfirst=True)\n",
    "train_data['date'] = train_data['date'].apply(lambda x: x.replace(second=0))\n",
    "train_data = train_data.groupby(train_data['date']).mean()"
   ]
  },
  {
   "cell_type": "code",
   "execution_count": 54,
   "metadata": {},
   "outputs": [],
   "source": [
    "test_data.drop(['date', 'mill_motor_pwr_kw_pv', 'mill_operation'], axis='columns', inplace=True)"
   ]
  },
  {
   "cell_type": "markdown",
   "metadata": {},
   "source": [
    "### We set the frequency of the by one minute, so as to cover the gaps in the time series\n",
    "### Then we use interpolation to fill the empty values "
   ]
  },
  {
   "cell_type": "code",
   "execution_count": 56,
   "metadata": {},
   "outputs": [],
   "source": [
    "train_data = train_data.asfreq('1T')"
   ]
  },
  {
   "cell_type": "code",
   "execution_count": 57,
   "metadata": {},
   "outputs": [],
   "source": [
    "train_data = train_data.interpolate(method='linear', axis=0, limit=None, inplace=False, limit_direction='backward', limit_area=\"inside\")"
   ]
  },
  {
   "cell_type": "markdown",
   "metadata": {},
   "source": [
    "### We shift each input according to their time delay with the output"
   ]
  },
  {
   "cell_type": "code",
   "execution_count": 61,
   "metadata": {},
   "outputs": [],
   "source": [
    "train_data['total_feed_ton_h_pv'] = train_data['total_feed_ton_h_pv'].shift(periods=6)\n",
    "train_data['fly_ash_1_ton_h_pv'] = train_data['fly_ash_1_ton_h_pv'].shift(periods=16)\n",
    "train_data['fly_ash_2_ton_h_pv'] = train_data['fly_ash_2_ton_h_pv'].shift(periods=16)\n",
    "train_data['main_fan_speed_rpm_pv'] = train_data['main_fan_speed_rpm_pv'].shift(periods=5)\n",
    "train_data['separator_speed_rpm_pv'] = train_data['separator_speed_rpm_pv'].shift(periods=2)\n",
    "train_data['grinding_pressure_bar_pv'] = train_data['grinding_pressure_bar_pv'].shift(periods=4)\n",
    "train_data['mill_injection_water_m3_h_pv'] = train_data['mill_injection_water_m3_h_pv'].shift(periods=3)\n",
    "train_data['bucket_elv_mtr_pwr_kw_pv'] = train_data['bucket_elv_mtr_pwr_kw_pv'].shift(periods=4)\n",
    "train_data = train_data.iloc[16:]"
   ]
  },
  {
   "cell_type": "markdown",
   "metadata": {},
   "source": [
    "### Scaling the variable values because they have different ranges"
   ]
  },
  {
   "cell_type": "code",
   "execution_count": 5,
   "metadata": {},
   "outputs": [],
   "source": [
    "old_columns = train_data.columns"
   ]
  },
  {
   "cell_type": "code",
   "execution_count": 6,
   "metadata": {},
   "outputs": [],
   "source": [
    "train_data.columns = ['col1', 'col2', 'col3', 'col4', 'col5', 'col6', 'col7', 'col8', 'y']"
   ]
  },
  {
   "cell_type": "code",
   "execution_count": 8,
   "metadata": {},
   "outputs": [
    {
     "data": {
      "text/plain": [
       "<matplotlib.legend.Legend at 0x1e60238a7c8>"
      ]
     },
     "execution_count": 8,
     "metadata": {},
     "output_type": "execute_result"
    },
    {
     "data": {
      "image/png": "[encoded data removed]",
      "text/plain": [
       "<Figure size 432x288 with 1 Axes>"
      ]
     },
     "metadata": {
      "needs_background": "light"
     },
     "output_type": "display_data"
    }
   ],
   "source": [
    "sns.distplot(train_data['col1'], label='total feed')\n",
    "sns.distplot(train_data['col2'], label='fly ash 1')\n",
    "sns.distplot(train_data['col3'], label='fly ash 2')\n",
    "sns.distplot(train_data['col4'], label='fan speed')\n",
    "sns.distplot(train_data['col5'], label='sep speed')\n",
    "sns.distplot(train_data['col6'], label='grind press')\n",
    "sns.distplot(train_data['col7'], label='inj water')\n",
    "sns.distplot(train_data['col8'], label='bucket elvtr')\n",
    "plt.legend()"
   ]
  },
  {
   "cell_type": "code",
   "execution_count": 9,
   "metadata": {},
   "outputs": [],
   "source": [
    "from sklearn.preprocessing import MinMaxScaler"
   ]
  },
  {
   "cell_type": "code",
   "execution_count": 10,
   "metadata": {},
   "outputs": [],
   "source": [
    "mm = MinMaxScaler()\n",
    "\n",
    "train_mm = mm.fit_transform(train_data)"
   ]
  },
  {
   "cell_type": "code",
   "execution_count": 11,
   "metadata": {},
   "outputs": [
    {
     "data": {
      "image/png": "[encoded data removed]",
      "text/plain": [
       "<Figure size 432x288 with 1 Axes>"
      ]
     },
     "metadata": {
      "needs_background": "light"
     },
     "output_type": "display_data"
    }
   ],
   "source": [
    "for i in range(8):\n",
    "    sns.distplot(train_mm[:,i])"
   ]
  },
  {
   "cell_type": "markdown",
   "metadata": {},
   "source": [
    "### Model evaluation"
   ]
  },
  {
   "cell_type": "code",
   "execution_count": 12,
   "metadata": {},
   "outputs": [],
   "source": [
    "x = train_data.drop('y', axis=1).values\n",
    "y = train_data['y'].values"
   ]
  },
  {
   "cell_type": "code",
   "execution_count": 13,
   "metadata": {},
   "outputs": [],
   "source": [
    "x2 = test_data.drop('mill_dp_mbar_pv', axis=1).values\n",
    "y2 = test_data['mill_dp_mbar_pv'].values"
   ]
  },
  {
   "cell_type": "code",
   "execution_count": 14,
   "metadata": {},
   "outputs": [],
   "source": [
    "from sklearn.linear_model import LinearRegression, Ridge, SGDRegressor\n",
    "from sklearn.tree import DecisionTreeRegressor\n",
    "from sklearn.svm import SVR\n",
    "from sklearn.experimental import enable_hist_gradient_boosting\n",
    "from sklearn.ensemble import RandomForestRegressor, BaggingRegressor, GradientBoostingRegressor, HistGradientBoostingRegressor\n",
    "from sklearn.model_selection import GridSearchCV\n",
    "from sklearn.metrics import mean_absolute_error, mean_squared_error, r2_score"
   ]
  },
  {
   "cell_type": "code",
   "execution_count": 19,
   "metadata": {},
   "outputs": [],
   "source": [
    "x = x.copy(order='C')\n",
    "\n",
    "# Linear Regression\n",
    "lin_reg = LinearRegression().fit(x, y)\n",
    "lr_preds = lin_reg.predict(x2)\n",
    "\n",
    "lr_mae = mean_absolute_error(y2, lr_preds)\n",
    "lr_mse = np.sqrt(mean_squared_error(y2, lr_preds))\n",
    "lr_r2 = r2_score(y2, lr_preds, multioutput='variance_weighted')\n",
    "\n",
    "param_grid = {'alpha': [0.1],\n",
    "              'solver': ['svd']}\n",
    "\n",
    "# Ridge\n",
    "rid_reg = GridSearchCV(Ridge(), param_grid)\n",
    "rid_reg.fit(x, y)\n",
    "rd_preds = rid_reg.predict(x2)\n",
    "\n",
    "rd_mae = mean_absolute_error(y2, rd_preds)\n",
    "rd_mse = np.sqrt(mean_squared_error(y2, rd_preds))\n",
    "rd_r2 = r2_score(y2, rd_preds, multioutput='variance_weighted')"
   ]
  },
  {
   "cell_type": "code",
   "execution_count": 21,
   "metadata": {},
   "outputs": [],
   "source": [
    "# SVR\n",
    "\n",
    "svr = SVR(max_iter=10000)\n",
    "svr.fit(x, y)\n",
    "sv_preds = svr.predict(x2)\n",
    "\n",
    "sv_mae = mean_absolute_error(y2, sv_preds)\n",
    "sv_mse = np.sqrt(mean_squared_error(y2, sv_preds))\n",
    "sv_r2 = r2_score(y2, sv_preds, multioutput='variance_weighted')"
   ]
  },
  {
   "cell_type": "code",
   "execution_count": 24,
   "metadata": {},
   "outputs": [],
   "source": [
    "param_grid2 = {'max_depth': [8],\n",
    "               'min_samples_split': [2],\n",
    "               'min_samples_leaf': [2]}\n",
    "\n",
    "# Decision Tree\n",
    "dt = GridSearchCV(DecisionTreeRegressor(), param_grid2)\n",
    "dt.fit(x, y)\n",
    "dt_preds = dt.predict(x2)\n",
    "\n",
    "dt_mae = mean_absolute_error(y2, dt_preds)\n",
    "dt_mse = np.sqrt(mean_squared_error(y2, dt_preds))\n",
    "dt_r2 = r2_score(y2, dt_preds, multioutput='variance_weighted')"
   ]
  },
  {
   "cell_type": "code",
   "execution_count": 39,
   "metadata": {},
   "outputs": [],
   "source": [
    "param_grid3 = {'n_estimators': [100],\n",
    "               'max_depth': [8],\n",
    "               'min_samples_leaf': [3]}\n",
    "\n",
    "# Random Forest\n",
    "ran_for = GridSearchCV(RandomForestRegressor(), param_grid3)\n",
    "ran_for.fit(x, y)\n",
    "rf_preds = ran_for.predict(x2)\n",
    "\n",
    "rf_mae = mean_absolute_error(y2, rf_preds)\n",
    "rf_mse = np.sqrt(mean_squared_error(y2, rf_preds))\n",
    "rf_r2 = r2_score(y2, rf_preds, multioutput='variance_weighted')"
   ]
  },
  {
   "cell_type": "code",
   "execution_count": 48,
   "metadata": {},
   "outputs": [],
   "source": [
    "param_grid4 = {'loss': ['huber'],\n",
    "               'alpha': [0.1],\n",
    "               'max_iter': [1000],\n",
    "               'learning_rate': ['adaptive']}\n",
    "\n",
    "# Stohastic Gradient Descent\n",
    "sgd = GridSearchCV(SGDRegressor(shuffle=False), param_grid4)\n",
    "sgd.fit(x, y)\n",
    "sd_preds = sgd.predict(x2)\n",
    "\n",
    "sd_mae = mean_absolute_error(y2, sd_preds)\n",
    "sd_mse = np.sqrt(mean_squared_error(y2, sd_preds))\n",
    "sd_r2 = r2_score(y2, sd_preds, multioutput='variance_weighted')"
   ]
  },
  {
   "cell_type": "code",
   "execution_count": 57,
   "metadata": {},
   "outputs": [],
   "source": [
    "param_grid5 = {'loss': ['lad'],\n",
    "               'n_estimators': [100]}\n",
    "\n",
    "# Gradient Boosting\n",
    "gbr = GridSearchCV(GradientBoostingRegressor(), param_grid5)\n",
    "gbr.fit(x, y)\n",
    "gb_preds = gbr.predict(x2)\n",
    "\n",
    "gb_mae = mean_absolute_error(y2, gb_preds)\n",
    "gb_mse = np.sqrt(mean_squared_error(y2, gb_preds))\n",
    "gb_r2 = r2_score(y2, gb_preds, multioutput='variance_weighted')"
   ]
  },
  {
   "cell_type": "code",
   "execution_count": 62,
   "metadata": {},
   "outputs": [],
   "source": [
    "param_grid6 = {'max_iter': [100],\n",
    "               'min_samples_leaf': [35]}\n",
    "\n",
    "# Hist Gradient Boosting\n",
    "hgb = GridSearchCV(HistGradientBoostingRegressor(), param_grid6)\n",
    "hgb.fit(x, y)\n",
    "hg_preds = hgb.predict(x2)\n",
    "\n",
    "hg_mae = mean_absolute_error(y2, hg_preds)\n",
    "hg_mse = np.sqrt(mean_squared_error(y2, hg_preds))\n",
    "hg_r2 = r2_score(y2, hg_preds, multioutput='variance_weighted')"
   ]
  },
  {
   "cell_type": "code",
   "execution_count": 65,
   "metadata": {},
   "outputs": [],
   "source": [
    "param_grid7 = {'n_estimators': [100]}\n",
    "\n",
    "# Bagging\n",
    "bag = GridSearchCV(BaggingRegressor(), param_grid7)\n",
    "bag.fit(x, y)\n",
    "bg_preds = bag.predict(x2)\n",
    "\n",
    "bg_mae = mean_absolute_error(y2, bg_preds)\n",
    "bg_mse = np.sqrt(mean_squared_error(y2, bg_preds))\n",
    "bg_r2 = r2_score(y2, bg_preds, multioutput='variance_weighted')"
   ]
  },
  {
   "cell_type": "markdown",
   "metadata": {},
   "source": [
    "### Printing the results"
   ]
  },
  {
   "cell_type": "code",
   "execution_count": 66,
   "metadata": {},
   "outputs": [
    {
     "name": "stdout",
     "output_type": "stream",
     "text": [
      "Linear Regression:  1.8753043408691006 2.392065674531404 0.002233269730769427\n",
      "Ridge Regression:   1.8753026596701439 2.392063097188007 0.002235419827346097\n",
      "Suppport Vector:    2.1893247941869083 2.732484300698858 -0.30196158777228854\n",
      "Decision Tree:      1.9382344731137116 2.4589333714595494 -0.054329461901373\n",
      "Random Forest:      1.8944289273873887 2.4027051580180045 -0.006662247803211674\n",
      "Gradient Descent:   1.8817695559669212 2.4298075208981165 -0.029500505994916715\n",
      "Gradient Boosting:  1.8407927926451204 2.3201147631424153 0.061354169070787834\n",
      "Hist Grad Boost:    1.7443073694981266 2.2361418352915843 0.1280702137536497\n",
      "Bagging:            1.8357170369560416 2.3549132503182424 0.03298625505360342\n"
     ]
    }
   ],
   "source": [
    "print('Linear Regression: ', lr_mae, lr_mse, lr_r2)\n",
    "print('Ridge Regression:  ', rd_mae, rd_mse, rd_r2)\n",
    "print('Suppport Vector:   ', sv_mae, sv_mse, sv_r2)\n",
    "print('Decision Tree:     ', dt_mae, dt_mse, dt_r2)\n",
    "print('Random Forest:     ', rf_mae, rf_mse, rf_r2)\n",
    "print('Gradient Descent:  ', sd_mae, sd_mse, sd_r2)\n",
    "print('Gradient Boosting: ', gb_mae, gb_mse, gb_r2)\n",
    "print('Hist Grad Boost:   ', hg_mae, hg_mse, hg_r2)\n",
    "print('Bagging:           ', bg_mae, bg_mse, bg_r2)"
   ]
  },
  {
   "cell_type": "markdown",
   "metadata": {},
   "source": [
    "### Plotting the best 3 models in comparison with the real values"
   ]
  },
  {
   "cell_type": "code",
   "execution_count": 78,
   "metadata": {},
   "outputs": [
    {
     "data": {
      "text/plain": [
       "<matplotlib.legend.Legend at 0x1e607588808>"
      ]
     },
     "execution_count": 78,
     "metadata": {},
     "output_type": "execute_result"
    },
    {
     "data": {
      "image/png": "[encoded data removed]",
      "text/plain": [
       "<Figure size 1080x360 with 1 Axes>"
      ]
     },
     "metadata": {
      "needs_background": "light"
     },
     "output_type": "display_data"
    }
   ],
   "source": [
    "plt.figure(figsize=(15, 5))\n",
    "\n",
    "plt.plot(range(len(y2)), y2, label='target')\n",
    "plt.plot(range(len(y2)), bg_preds, label='bagging')\n",
    "plt.plot(range(len(y2)), gb_preds, label='grad boost')\n",
    "plt.plot(range(len(y2)), hg_preds, label='hist grad')\n",
    "\n",
    "plt.xlim(30000, 32000)\n",
    "plt.ylim(25, 45)\n",
    "\n",
    "plt.legend()"
   ]
  }
 ],
 "metadata": {
  "kernelspec": {
   "display_name": "Python 3",
   "language": "python",
   "name": "python3"
  },
  "language_info": {
   "codemirror_mode": {
    "name": "ipython",
    "version": 3
   },
   "file_extension": ".py",
   "mimetype": "text/x-python",
   "name": "python",
   "nbconvert_exporter": "python",
   "pygments_lexer": "ipython3",
   "version": "3.7.4"
  }
 },
 "nbformat": 4,
 "nbformat_minor": 2
}
